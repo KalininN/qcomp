{
 "cells": [
  {
   "cell_type": "code",
   "execution_count": 3,
   "metadata": {},
   "outputs": [
    {
     "name": "stderr",
     "output_type": "stream",
     "text": [
      "/usr/local/lib/python3.7/dist-packages/qiskit/__init__.py:65: RuntimeWarning: Could not import the Aer provider from the qiskit-aer package. Install qiskit-aer or check your installation.\n",
      "  RuntimeWarning)\n",
      "/usr/local/lib/python3.7/dist-packages/qiskit/providers/ibmq/ibmqfactory.py:192: UserWarning: Timestamps in IBMQ backend properties, jobs, and job results are all now in local time instead of UTC.\n",
      "  warnings.warn('Timestamps in IBMQ backend properties, jobs, and job results '\n"
     ]
    },
    {
     "ename": "TypeError",
     "evalue": "string indices must be integers",
     "output_type": "error",
     "traceback": [
      "\u001b[0;31m---------------------------------------------------------------------------\u001b[0m",
      "\u001b[0;31mHTTPError\u001b[0m                                 Traceback (most recent call last)",
      "\u001b[0;32m/usr/local/lib/python3.7/dist-packages/qiskit/providers/ibmq/api/session.py\u001b[0m in \u001b[0;36mrequest\u001b[0;34m(self, method, url, bare, **kwargs)\u001b[0m\n\u001b[1;32m    271\u001b[0m             \u001b[0mresponse\u001b[0m \u001b[0;34m=\u001b[0m \u001b[0msuper\u001b[0m\u001b[0;34m(\u001b[0m\u001b[0;34m)\u001b[0m\u001b[0;34m.\u001b[0m\u001b[0mrequest\u001b[0m\u001b[0;34m(\u001b[0m\u001b[0mmethod\u001b[0m\u001b[0;34m,\u001b[0m \u001b[0mfinal_url\u001b[0m\u001b[0;34m,\u001b[0m \u001b[0;34m**\u001b[0m\u001b[0mkwargs\u001b[0m\u001b[0;34m)\u001b[0m\u001b[0;34m\u001b[0m\u001b[0;34m\u001b[0m\u001b[0m\n\u001b[0;32m--> 272\u001b[0;31m             \u001b[0mresponse\u001b[0m\u001b[0;34m.\u001b[0m\u001b[0mraise_for_status\u001b[0m\u001b[0;34m(\u001b[0m\u001b[0;34m)\u001b[0m\u001b[0;34m\u001b[0m\u001b[0;34m\u001b[0m\u001b[0m\n\u001b[0m\u001b[1;32m    273\u001b[0m         \u001b[0;32mexcept\u001b[0m \u001b[0mRequestException\u001b[0m \u001b[0;32mas\u001b[0m \u001b[0mex\u001b[0m\u001b[0;34m:\u001b[0m\u001b[0;34m\u001b[0m\u001b[0;34m\u001b[0m\u001b[0m\n",
      "\u001b[0;32m/usr/lib/python3/dist-packages/requests/models.py\u001b[0m in \u001b[0;36mraise_for_status\u001b[0;34m(self)\u001b[0m\n\u001b[1;32m    939\u001b[0m         \u001b[0;32mif\u001b[0m \u001b[0mhttp_error_msg\u001b[0m\u001b[0;34m:\u001b[0m\u001b[0;34m\u001b[0m\u001b[0;34m\u001b[0m\u001b[0m\n\u001b[0;32m--> 940\u001b[0;31m             \u001b[0;32mraise\u001b[0m \u001b[0mHTTPError\u001b[0m\u001b[0;34m(\u001b[0m\u001b[0mhttp_error_msg\u001b[0m\u001b[0;34m,\u001b[0m \u001b[0mresponse\u001b[0m\u001b[0;34m=\u001b[0m\u001b[0mself\u001b[0m\u001b[0;34m)\u001b[0m\u001b[0;34m\u001b[0m\u001b[0;34m\u001b[0m\u001b[0m\n\u001b[0m\u001b[1;32m    941\u001b[0m \u001b[0;34m\u001b[0m\u001b[0m\n",
      "\u001b[0;31mHTTPError\u001b[0m: 403 Client Error: Forbidden for url: https://api.quantum-computing.ibm.com/api/Network/devices/ibmqx2/bookings/v2?initialDate=2020-09-30T18%3A44%3A50.838639%2B00%3A00&endDate=2020-09-30T19%3A44%3A50.838639%2B00%3A00",
      "\nDuring handling of the above exception, another exception occurred:\n",
      "\u001b[0;31mTypeError\u001b[0m                                 Traceback (most recent call last)",
      "\u001b[0;32m<ipython-input-3-7a68a2ca04cc>\u001b[0m in \u001b[0;36m<module>\u001b[0;34m\u001b[0m\n\u001b[1;32m      8\u001b[0m small_devices = provider.backends(filters=lambda x: x.configuration().n_qubits == 5\n\u001b[1;32m      9\u001b[0m                                    and not x.configuration().simulator)\n\u001b[0;32m---> 10\u001b[0;31m \u001b[0mleast_busy\u001b[0m\u001b[0;34m(\u001b[0m\u001b[0msmall_devices\u001b[0m\u001b[0;34m)\u001b[0m\u001b[0;34m\u001b[0m\u001b[0;34m\u001b[0m\u001b[0m\n\u001b[0m",
      "\u001b[0;32m/usr/local/lib/python3.7/dist-packages/qiskit/providers/ibmq/__init__.py\u001b[0m in \u001b[0;36mleast_busy\u001b[0;34m(backends, reservation_lookahead)\u001b[0m\n\u001b[1;32m    149\u001b[0m             \u001b[0;32mif\u001b[0m \u001b[0mreservation_lookahead\u001b[0m \u001b[0;32mand\u001b[0m \u001b[0misinstance\u001b[0m\u001b[0;34m(\u001b[0m\u001b[0mback\u001b[0m\u001b[0;34m,\u001b[0m \u001b[0mIBMQBackend\u001b[0m\u001b[0;34m)\u001b[0m\u001b[0;34m:\u001b[0m\u001b[0;34m\u001b[0m\u001b[0;34m\u001b[0m\u001b[0m\n\u001b[1;32m    150\u001b[0m                 \u001b[0mend_time\u001b[0m \u001b[0;34m=\u001b[0m \u001b[0mnow\u001b[0m \u001b[0;34m+\u001b[0m \u001b[0mtimedelta\u001b[0m\u001b[0;34m(\u001b[0m\u001b[0mminutes\u001b[0m\u001b[0;34m=\u001b[0m\u001b[0mreservation_lookahead\u001b[0m\u001b[0;34m)\u001b[0m\u001b[0;34m\u001b[0m\u001b[0;34m\u001b[0m\u001b[0m\n\u001b[0;32m--> 151\u001b[0;31m                 \u001b[0;32mif\u001b[0m \u001b[0mback\u001b[0m\u001b[0;34m.\u001b[0m\u001b[0mreservations\u001b[0m\u001b[0;34m(\u001b[0m\u001b[0mnow\u001b[0m\u001b[0;34m,\u001b[0m \u001b[0mend_time\u001b[0m\u001b[0;34m)\u001b[0m\u001b[0;34m:\u001b[0m\u001b[0;34m\u001b[0m\u001b[0;34m\u001b[0m\u001b[0m\n\u001b[0m\u001b[1;32m    152\u001b[0m                     \u001b[0;32mcontinue\u001b[0m\u001b[0;34m\u001b[0m\u001b[0;34m\u001b[0m\u001b[0m\n\u001b[1;32m    153\u001b[0m             \u001b[0mcandidates\u001b[0m\u001b[0;34m.\u001b[0m\u001b[0mappend\u001b[0m\u001b[0;34m(\u001b[0m\u001b[0mback\u001b[0m\u001b[0;34m)\u001b[0m\u001b[0;34m\u001b[0m\u001b[0;34m\u001b[0m\u001b[0m\n",
      "\u001b[0;32m/usr/local/lib/python3.7/dist-packages/qiskit/providers/ibmq/ibmqbackend.py\u001b[0m in \u001b[0;36mreservations\u001b[0;34m(self, start_datetime, end_datetime)\u001b[0m\n\u001b[1;32m    540\u001b[0m         \u001b[0mend_datetime\u001b[0m \u001b[0;34m=\u001b[0m \u001b[0mlocal_to_utc\u001b[0m\u001b[0;34m(\u001b[0m\u001b[0mend_datetime\u001b[0m\u001b[0;34m)\u001b[0m \u001b[0;32mif\u001b[0m \u001b[0mend_datetime\u001b[0m \u001b[0;32melse\u001b[0m \u001b[0;32mNone\u001b[0m\u001b[0;34m\u001b[0m\u001b[0;34m\u001b[0m\u001b[0m\n\u001b[1;32m    541\u001b[0m         raw_response = self._api_client.backend_reservations(\n\u001b[0;32m--> 542\u001b[0;31m             self.name(), start_datetime, end_datetime)\n\u001b[0m\u001b[1;32m    543\u001b[0m         \u001b[0;32mreturn\u001b[0m \u001b[0mconvert_reservation_data\u001b[0m\u001b[0;34m(\u001b[0m\u001b[0mraw_response\u001b[0m\u001b[0;34m,\u001b[0m \u001b[0mself\u001b[0m\u001b[0;34m.\u001b[0m\u001b[0mname\u001b[0m\u001b[0;34m(\u001b[0m\u001b[0;34m)\u001b[0m\u001b[0;34m)\u001b[0m\u001b[0;34m\u001b[0m\u001b[0;34m\u001b[0m\u001b[0m\n\u001b[1;32m    544\u001b[0m \u001b[0;34m\u001b[0m\u001b[0m\n",
      "\u001b[0;32m/usr/local/lib/python3.7/dist-packages/qiskit/providers/ibmq/api/clients/account.py\u001b[0m in \u001b[0;36mbackend_reservations\u001b[0;34m(self, backend_name, start_datetime, end_datetime)\u001b[0m\n\u001b[1;32m    145\u001b[0m         \"\"\"\n\u001b[1;32m    146\u001b[0m         \u001b[0mbackend_api\u001b[0m \u001b[0;34m=\u001b[0m \u001b[0mBackend\u001b[0m\u001b[0;34m(\u001b[0m\u001b[0mself\u001b[0m\u001b[0;34m.\u001b[0m\u001b[0m_session\u001b[0m\u001b[0;34m,\u001b[0m \u001b[0mbackend_name\u001b[0m\u001b[0;34m,\u001b[0m \u001b[0;34m'/Network'\u001b[0m\u001b[0;34m)\u001b[0m\u001b[0;34m\u001b[0m\u001b[0;34m\u001b[0m\u001b[0m\n\u001b[0;32m--> 147\u001b[0;31m         \u001b[0;32mreturn\u001b[0m \u001b[0mbackend_api\u001b[0m\u001b[0;34m.\u001b[0m\u001b[0mreservations\u001b[0m\u001b[0;34m(\u001b[0m\u001b[0mstart_datetime\u001b[0m\u001b[0;34m,\u001b[0m \u001b[0mend_datetime\u001b[0m\u001b[0;34m)\u001b[0m\u001b[0;34m\u001b[0m\u001b[0;34m\u001b[0m\u001b[0m\n\u001b[0m\u001b[1;32m    148\u001b[0m \u001b[0;34m\u001b[0m\u001b[0m\n\u001b[1;32m    149\u001b[0m     \u001b[0;32mdef\u001b[0m \u001b[0mmy_reservations\u001b[0m\u001b[0;34m(\u001b[0m\u001b[0mself\u001b[0m\u001b[0;34m)\u001b[0m \u001b[0;34m->\u001b[0m \u001b[0mList\u001b[0m\u001b[0;34m:\u001b[0m\u001b[0;34m\u001b[0m\u001b[0;34m\u001b[0m\u001b[0m\n",
      "\u001b[0;32m/usr/local/lib/python3.7/dist-packages/qiskit/providers/ibmq/api/rest/backend.py\u001b[0m in \u001b[0;36mreservations\u001b[0;34m(self, start_datetime, end_datetime)\u001b[0m\n\u001b[1;32m    143\u001b[0m             \u001b[0mparams\u001b[0m\u001b[0;34m[\u001b[0m\u001b[0;34m'endDate'\u001b[0m\u001b[0;34m]\u001b[0m \u001b[0;34m=\u001b[0m \u001b[0mend_datetime\u001b[0m\u001b[0;34m.\u001b[0m\u001b[0misoformat\u001b[0m\u001b[0;34m(\u001b[0m\u001b[0;34m)\u001b[0m\u001b[0;34m\u001b[0m\u001b[0;34m\u001b[0m\u001b[0m\n\u001b[1;32m    144\u001b[0m         \u001b[0murl\u001b[0m \u001b[0;34m=\u001b[0m \u001b[0mself\u001b[0m\u001b[0;34m.\u001b[0m\u001b[0mget_url\u001b[0m\u001b[0;34m(\u001b[0m\u001b[0;34m'bookings'\u001b[0m\u001b[0;34m)\u001b[0m\u001b[0;34m\u001b[0m\u001b[0;34m\u001b[0m\u001b[0m\n\u001b[0;32m--> 145\u001b[0;31m         \u001b[0;32mreturn\u001b[0m \u001b[0mself\u001b[0m\u001b[0;34m.\u001b[0m\u001b[0msession\u001b[0m\u001b[0;34m.\u001b[0m\u001b[0mget\u001b[0m\u001b[0;34m(\u001b[0m\u001b[0murl\u001b[0m\u001b[0;34m,\u001b[0m \u001b[0mparams\u001b[0m\u001b[0;34m=\u001b[0m\u001b[0mparams\u001b[0m\u001b[0;34m)\u001b[0m\u001b[0;34m.\u001b[0m\u001b[0mjson\u001b[0m\u001b[0;34m(\u001b[0m\u001b[0;34m)\u001b[0m\u001b[0;34m\u001b[0m\u001b[0;34m\u001b[0m\u001b[0m\n\u001b[0m",
      "\u001b[0;32m/usr/lib/python3/dist-packages/requests/sessions.py\u001b[0m in \u001b[0;36mget\u001b[0;34m(self, url, **kwargs)\u001b[0m\n\u001b[1;32m    544\u001b[0m \u001b[0;34m\u001b[0m\u001b[0m\n\u001b[1;32m    545\u001b[0m         \u001b[0mkwargs\u001b[0m\u001b[0;34m.\u001b[0m\u001b[0msetdefault\u001b[0m\u001b[0;34m(\u001b[0m\u001b[0;34m'allow_redirects'\u001b[0m\u001b[0;34m,\u001b[0m \u001b[0;32mTrue\u001b[0m\u001b[0;34m)\u001b[0m\u001b[0;34m\u001b[0m\u001b[0;34m\u001b[0m\u001b[0m\n\u001b[0;32m--> 546\u001b[0;31m         \u001b[0;32mreturn\u001b[0m \u001b[0mself\u001b[0m\u001b[0;34m.\u001b[0m\u001b[0mrequest\u001b[0m\u001b[0;34m(\u001b[0m\u001b[0;34m'GET'\u001b[0m\u001b[0;34m,\u001b[0m \u001b[0murl\u001b[0m\u001b[0;34m,\u001b[0m \u001b[0;34m**\u001b[0m\u001b[0mkwargs\u001b[0m\u001b[0;34m)\u001b[0m\u001b[0;34m\u001b[0m\u001b[0;34m\u001b[0m\u001b[0m\n\u001b[0m\u001b[1;32m    547\u001b[0m \u001b[0;34m\u001b[0m\u001b[0m\n\u001b[1;32m    548\u001b[0m     \u001b[0;32mdef\u001b[0m \u001b[0moptions\u001b[0m\u001b[0;34m(\u001b[0m\u001b[0mself\u001b[0m\u001b[0;34m,\u001b[0m \u001b[0murl\u001b[0m\u001b[0;34m,\u001b[0m \u001b[0;34m**\u001b[0m\u001b[0mkwargs\u001b[0m\u001b[0;34m)\u001b[0m\u001b[0;34m:\u001b[0m\u001b[0;34m\u001b[0m\u001b[0;34m\u001b[0m\u001b[0m\n",
      "\u001b[0;32m/usr/local/lib/python3.7/dist-packages/qiskit/providers/ibmq/api/session.py\u001b[0m in \u001b[0;36mrequest\u001b[0;34m(self, method, url, bare, **kwargs)\u001b[0m\n\u001b[1;32m    279\u001b[0m                     \u001b[0merror_json\u001b[0m \u001b[0;34m=\u001b[0m \u001b[0mex\u001b[0m\u001b[0;34m.\u001b[0m\u001b[0mresponse\u001b[0m\u001b[0;34m.\u001b[0m\u001b[0mjson\u001b[0m\u001b[0;34m(\u001b[0m\u001b[0;34m)\u001b[0m\u001b[0;34m[\u001b[0m\u001b[0;34m'error'\u001b[0m\u001b[0;34m]\u001b[0m\u001b[0;34m\u001b[0m\u001b[0;34m\u001b[0m\u001b[0m\n\u001b[1;32m    280\u001b[0m                     message += \". {}, Error code: {}.\".format(\n\u001b[0;32m--> 281\u001b[0;31m                         error_json['message'], error_json['code'])\n\u001b[0m\u001b[1;32m    282\u001b[0m                     \u001b[0mlogger\u001b[0m\u001b[0;34m.\u001b[0m\u001b[0mdebug\u001b[0m\u001b[0;34m(\u001b[0m\u001b[0;34m\"Response uber-trace-id: %s\"\u001b[0m\u001b[0;34m,\u001b[0m \u001b[0mex\u001b[0m\u001b[0;34m.\u001b[0m\u001b[0mresponse\u001b[0m\u001b[0;34m.\u001b[0m\u001b[0mheaders\u001b[0m\u001b[0;34m[\u001b[0m\u001b[0;34m'uber-trace-id'\u001b[0m\u001b[0;34m]\u001b[0m\u001b[0;34m)\u001b[0m\u001b[0;34m\u001b[0m\u001b[0;34m\u001b[0m\u001b[0m\n\u001b[1;32m    283\u001b[0m                 \u001b[0;32mexcept\u001b[0m \u001b[0;34m(\u001b[0m\u001b[0mValueError\u001b[0m\u001b[0;34m,\u001b[0m \u001b[0mKeyError\u001b[0m\u001b[0;34m)\u001b[0m\u001b[0;34m:\u001b[0m\u001b[0;34m\u001b[0m\u001b[0;34m\u001b[0m\u001b[0m\n",
      "\u001b[0;31mTypeError\u001b[0m: string indices must be integers"
     ]
    }
   ],
   "source": [
    "from qiskit import *\n",
    "IBMQ.load_account()\n",
    "provider = IBMQ.get_provider(hub='ibm-q')\n",
    "provider.backends()\n",
    "\n",
    "from qiskit.providers.ibmq import least_busy\n",
    "\n",
    "small_devices = provider.backends(filters=lambda x: x.configuration().n_qubits == 5\n",
    "                                   and not x.configuration().simulator)\n",
    "least_busy(small_devices)"
   ]
  },
  {
   "cell_type": "code",
   "execution_count": 4,
   "metadata": {},
   "outputs": [],
   "source": [
    "simulator = BasicAer.get_backend('qasm_simulator')\n",
    "backend = provider.get_backend('ibmq_valencia')"
   ]
  },
  {
   "cell_type": "code",
   "execution_count": 5,
   "metadata": {},
   "outputs": [],
   "source": [
    "# supplementary\n",
    "def relerror(a, b):\n",
    "    return abs(a - b) / max(abs(a), abs(b))"
   ]
  },
  {
   "cell_type": "code",
   "execution_count": 4,
   "metadata": {},
   "outputs": [
    {
     "data": {
      "text/html": [
       "<pre style=\"word-wrap: normal;white-space: pre;background: #fff0;line-height: 1.1;font-family: &quot;Courier New&quot;,Courier,monospace\">     ┌──────────────────┐┌───┐┌─┐\n",
       "q_0: ┤ U3(2.1416,0.9,0) ├┤ H ├┤M├\n",
       "     └──────────────────┘└───┘└╥┘\n",
       "c: 1/══════════════════════════╩═\n",
       "                               0 </pre>"
      ],
      "text/plain": [
       "     ┌──────────────────┐┌───┐┌─┐\n",
       "q_0: ┤ U3(2.1416,0.9,0) ├┤ H ├┤M├\n",
       "     └──────────────────┘└───┘└╥┘\n",
       "c: 1/══════════════════════════╩═\n",
       "                               0 "
      ]
     },
     "execution_count": 4,
     "metadata": {},
     "output_type": "execute_result"
    }
   ],
   "source": [
    "# problem 1\n",
    "from math import *\n",
    "circuit = QuantumCircuit(1, 1)\n",
    "phi = 0.9\n",
    "theta = 0.5\n",
    "circuit.u3(pi - 2 * theta, phi, 0, 0)\n",
    "circuit.h(0)\n",
    "circuit.measure([0], [0])\n",
    "circuit.draw()"
   ]
  },
  {
   "cell_type": "code",
   "execution_count": 10,
   "metadata": {},
   "outputs": [
    {
     "name": "stdout",
     "output_type": "stream",
     "text": [
      "{'1': 514, '0': 1534}\n",
      "prepared = 0.6216099682706644, measured = 0.5918764686980877, relative error = 0.047833048197885315\n"
     ]
    }
   ],
   "source": [
    "shots = 2048\n",
    "job = execute(circuit, simulator, shots=shots)\n",
    "result = job.result()\n",
    "counts = result.get_counts(circuit)\n",
    "print(counts)\n",
    "for k in counts.keys():\n",
    "    counts[k] /= shots\n",
    "c0 = (counts['0'] - counts['1'])\n",
    "cosphi = c0 / cos(theta) / sin(theta) / 2\n",
    "print(\"prepared = {}, measured = {}, relative error = {}\".format(cos(phi), cosphi, relerror(cosphi, cos(phi))))"
   ]
  },
  {
   "cell_type": "code",
   "execution_count": 6,
   "metadata": {},
   "outputs": [
    {
     "data": {
      "text/html": [
       "<pre style=\"word-wrap: normal;white-space: pre;background: #fff0;line-height: 1.1;font-family: &quot;Courier New&quot;,Courier,monospace\">            ┌───┐       ┌───────────┐┌───┐┌───┐┌───┐┌──────────┐     ┌─┐   \n",
       "q_0: ───────┤ H ├───────┤ U1(2pi/3) ├┤ H ├┤ S ├┤ X ├┤ U1(pi/3) ├─────┤M├───\n",
       "            ├───┤       ├───────────┤├───┤├───┤├───┤├──────────┤┌───┐└╥┘┌─┐\n",
       "q_1: ───────┤ H ├───────┤ U1(2pi/3) ├┤ H ├┤ S ├┤ X ├┤ U1(pi/3) ├┤ H ├─╫─┤M├\n",
       "     ┌──────┴───┴──────┐└───────────┘└┬─┬┘└───┘└───┘└──────────┘└───┘ ║ └╥┘\n",
       "q_2: ┤ U3(pi/3,pi/3,0) ├──────────────┤M├─────────────────────────────╫──╫─\n",
       "     ├─────────────────┤    ┌───┐     └╥┘  ┌─┐                        ║  ║ \n",
       "q_3: ┤ U3(pi/3,pi/3,0) ├────┤ H ├──────╫───┤M├────────────────────────╫──╫─\n",
       "     └─────────────────┘    └───┘      ║   └╥┘                        ║  ║ \n",
       "c: 4/══════════════════════════════════╩════╩═════════════════════════╩══╩═\n",
       "                                       2    3                         0  1 </pre>"
      ],
      "text/plain": [
       "            ┌───┐       ┌───────────┐┌───┐┌───┐┌───┐┌──────────┐     ┌─┐   \n",
       "q_0: ───────┤ H ├───────┤ U1(2pi/3) ├┤ H ├┤ S ├┤ X ├┤ U1(pi/3) ├─────┤M├───\n",
       "            ├───┤       ├───────────┤├───┤├───┤├───┤├──────────┤┌───┐└╥┘┌─┐\n",
       "q_1: ───────┤ H ├───────┤ U1(2pi/3) ├┤ H ├┤ S ├┤ X ├┤ U1(pi/3) ├┤ H ├─╫─┤M├\n",
       "     ┌──────┴───┴──────┐└───────────┘└┬─┬┘└───┘└───┘└──────────┘└───┘ ║ └╥┘\n",
       "q_2: ┤ U3(pi/3,pi/3,0) ├──────────────┤M├─────────────────────────────╫──╫─\n",
       "     ├─────────────────┤    ┌───┐     └╥┘  ┌─┐                        ║  ║ \n",
       "q_3: ┤ U3(pi/3,pi/3,0) ├────┤ H ├──────╫───┤M├────────────────────────╫──╫─\n",
       "     └─────────────────┘    └───┘      ║   └╥┘                        ║  ║ \n",
       "c: 4/══════════════════════════════════╩════╩═════════════════════════╩══╩═\n",
       "                                       2    3                         0  1 "
      ]
     },
     "execution_count": 6,
     "metadata": {},
     "output_type": "execute_result"
    }
   ],
   "source": [
    "#problem 2\n",
    "from math import *\n",
    "circuit = QuantumCircuit(4, 4)\n",
    "phi = pi / 3\n",
    "theta = pi / 3\n",
    "# prepare 2 equal states\n",
    "circuit.h(0)\n",
    "circuit.u1(2 * theta, 0)\n",
    "circuit.h(0)\n",
    "circuit.s(0)\n",
    "circuit.x(0)\n",
    "circuit.u1(phi, 0)\n",
    "circuit.h(1)\n",
    "circuit.u1(2 * theta, 1)\n",
    "circuit.h(1)\n",
    "circuit.s(1)\n",
    "circuit.x(1)\n",
    "circuit.u1(phi, 1)\n",
    "# same with u3\n",
    "circuit.u3(pi - 2 * theta, phi, 0, 2)\n",
    "circuit.u3(pi - 2 * theta, phi, 0, 3)\n",
    "# use qbits 0, 2 to check theta, use qbits 1, 3 to check phi\n",
    "# prepare qbits 1, 3 for phi measurements\n",
    "circuit.h(1)\n",
    "circuit.h(3)\n",
    "circuit.measure([0, 1, 2, 3], [0, 1, 2, 3])\n",
    "circuit.draw()"
   ]
  },
  {
   "cell_type": "code",
   "execution_count": 7,
   "metadata": {},
   "outputs": [
    {
     "name": "stdout",
     "output_type": "stream",
     "text": [
      "{'1100': 2485, '0001': 6288, '0000': 19020, '0010': 7564, '1000': 7429, '1101': 864, '1001': 2464, '1110': 1004, '0110': 2426, '0011': 2516, '0100': 6359, '1010': 2958, '1011': 949, '0101': 2053, '0111': 823, '1111': 334}\n",
      "manual: max error = 0.002842173741413378\n",
      "using u3: max error = 0.006444911728573029\n"
     ]
    }
   ],
   "source": [
    "from math import *\n",
    "shots = 65536 # 65536 for simulation, 1024 for real system\n",
    "job = execute(circuit, simulator, shots=shots)\n",
    "result = job.result()\n",
    "counts = result.get_counts(circuit)\n",
    "print(counts)\n",
    "for k in counts.keys():\n",
    "    counts[k] /= shots\n",
    "# separate qbit measurements\n",
    "def gettrace(counts, n, mask):\n",
    "    p = 0\n",
    "    for i in range(1 << n):\n",
    "        state = ''\n",
    "        for j in range(n):\n",
    "            state += str((i >> j) & 1)\n",
    "        corresponds = True\n",
    "        for j in range(n):\n",
    "            if mask[j] != '?' and mask[j] != state[j]:\n",
    "                corresponds = False\n",
    "        if not corresponds:\n",
    "            continue\n",
    "        p += counts[state]\n",
    "    return p\n",
    "# p[i][j] is the probability of qbit i being in state j\n",
    "p = [(gettrace(counts, 4, '?' * (3 - i) + '0' + '?' * i),\n",
    "      gettrace(counts, 4, '?' * (3 - i) + '1' + '?' * i)) for i in range(4)]\n",
    "\n",
    "sintheta = sqrt(p[0][0])\n",
    "costheta = sqrt(p[0][1])\n",
    "c0 = (p[1][0] - p[1][1])\n",
    "cosphi = c0 / cos(theta) / sin(theta) / 2\n",
    "print(\"manual: max error = {}\".format(max(relerror(sintheta, sin(theta)), relerror(costheta, cos(theta)), relerror(cosphi, cos(phi)))))\n",
    "sintheta = sqrt(p[2][0])\n",
    "costheta = sqrt(p[2][1])\n",
    "c0 = (p[3][0] - p[3][1])\n",
    "cosphi = c0 / cos(theta) / sin(theta) / 2\n",
    "print(\"using u3: max error = {}\".format(max(relerror(sintheta, sin(theta)), relerror(costheta, cos(theta)), relerror(cosphi, cos(phi)))))"
   ]
  },
  {
   "cell_type": "code",
   "execution_count": 5,
   "metadata": {},
   "outputs": [
    {
     "data": {
      "text/html": [
       "<pre style=\"word-wrap: normal;white-space: pre;background: #fff0;line-height: 1.1;font-family: &quot;Courier New&quot;,Courier,monospace\">     ┌───┐     \n",
       "q_0: ┤ H ├──■──\n",
       "     └───┘┌─┴─┐\n",
       "q_1: ─────┤ X ├\n",
       "          └───┘</pre>"
      ],
      "text/plain": [
       "     ┌───┐     \n",
       "q_0: ┤ H ├──■──\n",
       "     └───┘┌─┴─┐\n",
       "q_1: ─────┤ X ├\n",
       "          └───┘"
      ]
     },
     "execution_count": 5,
     "metadata": {},
     "output_type": "execute_result"
    }
   ],
   "source": [
    "# problem 5\n",
    "simulator = BasicAer.get_backend('unitary_simulator')\n",
    "from math import *\n",
    "circuit1 = QuantumCircuit(2)\n",
    "circuit1.h(0)\n",
    "circuit1.cx(0, 1)\n",
    "circuit1.draw()"
   ]
  },
  {
   "cell_type": "code",
   "execution_count": 7,
   "metadata": {},
   "outputs": [
    {
     "data": {
      "text/html": [
       "<pre style=\"word-wrap: normal;white-space: pre;background: #fff0;line-height: 1.1;font-family: &quot;Courier New&quot;,Courier,monospace\">     ┌───┐     ┌───┐\n",
       "q_0: ┤ H ├──■──┤ X ├\n",
       "     └───┘┌─┴─┐└───┘\n",
       "q_1: ─────┤ X ├─────\n",
       "          └───┘     </pre>"
      ],
      "text/plain": [
       "     ┌───┐     ┌───┐\n",
       "q_0: ┤ H ├──■──┤ X ├\n",
       "     └───┘┌─┴─┐└───┘\n",
       "q_1: ─────┤ X ├─────\n",
       "          └───┘     "
      ]
     },
     "execution_count": 7,
     "metadata": {},
     "output_type": "execute_result"
    }
   ],
   "source": [
    "circuit2 = QuantumCircuit(2)\n",
    "circuit2.h(0)\n",
    "circuit2.cx(0, 1)\n",
    "circuit2.x(0)\n",
    "circuit2.draw()"
   ]
  },
  {
   "cell_type": "code",
   "execution_count": 8,
   "metadata": {},
   "outputs": [
    {
     "data": {
      "text/html": [
       "<pre style=\"word-wrap: normal;white-space: pre;background: #fff0;line-height: 1.1;font-family: &quot;Courier New&quot;,Courier,monospace\">     ┌─────────────────┐     ┌─────────────────┐ \n",
       "q_0: ┤ U3(0.72973,0,0) ├──■──┤ U3(0.46365,0,0) ├─\n",
       "     └─────────────────┘┌─┴─┐├─────────────────┴┐\n",
       "q_1: ───────────────────┤ X ├┤ U3(0.46365,0,pi) ├\n",
       "                        └───┘└──────────────────┘</pre>"
      ],
      "text/plain": [
       "     ┌─────────────────┐     ┌─────────────────┐ \n",
       "q_0: ┤ U3(0.72973,0,0) ├──■──┤ U3(0.46365,0,0) ├─\n",
       "     └─────────────────┘┌─┴─┐├─────────────────┴┐\n",
       "q_1: ───────────────────┤ X ├┤ U3(0.46365,0,pi) ├\n",
       "                        └───┘└──────────────────┘"
      ]
     },
     "execution_count": 8,
     "metadata": {},
     "output_type": "execute_result"
    }
   ],
   "source": [
    "circuit3 = QuantumCircuit(2)\n",
    "theta = 2 * atan2(sqrt(3 - sqrt(5)), sqrt(3 + sqrt(5)))\n",
    "circuit3.u3(theta, 0, 0, 0)\n",
    "circuit3.cx(0, 1)\n",
    "A = sqrt(1. / 2 + 1. / sqrt(5))\n",
    "B = sqrt(1. / 2 - 1. / sqrt(5))\n",
    "theta = 2 * atan2(B, A)\n",
    "circuit3.u3(theta, 0, 0, 0)\n",
    "circuit3.u3(theta, 0, pi, 1)\n",
    "circuit3.draw()"
   ]
  },
  {
   "cell_type": "code",
   "execution_count": 10,
   "metadata": {},
   "outputs": [
    {
     "name": "stdout",
     "output_type": "stream",
     "text": [
      "[(0.7071067811865476+0j), 0j, 0j, (0.7071067811865475+0j)]\n"
     ]
    }
   ],
   "source": [
    "job = execute(circuit1, simulator)\n",
    "result = job.result()\n",
    "res = result.get_unitary(circuit1, decimals=3)\n",
    "state = [x[0] for x in res]\n",
    "print(state)"
   ]
  },
  {
   "cell_type": "code",
   "execution_count": 11,
   "metadata": {},
   "outputs": [
    {
     "name": "stdout",
     "output_type": "stream",
     "text": [
      "[0j, (0.7071067811865476+0j), (0.7071067811865475-8.659560562354932e-17j), 0j]\n"
     ]
    }
   ],
   "source": [
    "job = execute(circuit2, simulator)\n",
    "result = job.result()\n",
    "res = result.get_unitary(circuit2, decimals=3)\n",
    "state = [x[0] for x in res]\n",
    "print(state)"
   ]
  },
  {
   "cell_type": "code",
   "execution_count": 12,
   "metadata": {},
   "outputs": [
    {
     "name": "stdout",
     "output_type": "stream",
     "text": [
      "[(0.8660254037844386+2.306665741400371e-18j), (0.2886751345948129-9.77119288194192e-18j), (0.288675134594813-9.77119288194192e-18j), (-0.28867513459481287+4.139143726916804e-17j)]\n"
     ]
    }
   ],
   "source": [
    "job = execute(circuit3, simulator)\n",
    "result = job.result()\n",
    "res = result.get_unitary(circuit3, decimals=3)\n",
    "state = [x[0] for x in res]\n",
    "print(state)"
   ]
  },
  {
   "cell_type": "code",
   "execution_count": null,
   "metadata": {},
   "outputs": [],
   "source": []
  }
 ],
 "metadata": {
  "kernelspec": {
   "display_name": "Python 3",
   "language": "python",
   "name": "python3"
  },
  "language_info": {
   "codemirror_mode": {
    "name": "ipython",
    "version": 3
   },
   "file_extension": ".py",
   "mimetype": "text/x-python",
   "name": "python",
   "nbconvert_exporter": "python",
   "pygments_lexer": "ipython3",
   "version": "3.7.5"
  }
 },
 "nbformat": 4,
 "nbformat_minor": 4
}
