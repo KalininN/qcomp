{
 "cells": [
  {
   "cell_type": "code",
   "execution_count": 3,
   "metadata": {},
   "outputs": [
    {
     "name": "stderr",
     "output_type": "stream",
     "text": [
      "/usr/local/lib/python3.7/dist-packages/qiskit/providers/ibmq/ibmqfactory.py:192: UserWarning: Timestamps in IBMQ backend properties, jobs, and job results are all now in local time instead of UTC.\n",
      "  warnings.warn('Timestamps in IBMQ backend properties, jobs, and job results '\n"
     ]
    },
    {
     "data": {
      "text/plain": [
       "<IBMQBackend('ibmqx2') from IBMQ(hub='ibm-q', group='open', project='main')>"
      ]
     },
     "execution_count": 3,
     "metadata": {},
     "output_type": "execute_result"
    }
   ],
   "source": [
    "from qiskit import *\n",
    "IBMQ.load_account()\n",
    "provider = IBMQ.get_provider(hub='ibm-q')\n",
    "provider.backends()\n",
    "\n",
    "from qiskit.providers.ibmq import least_busy\n",
    "\n",
    "small_devices = provider.backends(filters=lambda x: x.configuration().n_qubits == 5\n",
    "                                   and not x.configuration().simulator)\n",
    "least_busy(small_devices)"
   ]
  },
  {
   "cell_type": "code",
   "execution_count": 4,
   "metadata": {},
   "outputs": [],
   "source": [
    "simulator = BasicAer.get_backend('qasm_simulator')\n",
    "backend = provider.get_backend('ibmq_valencia')"
   ]
  },
  {
   "cell_type": "code",
   "execution_count": 5,
   "metadata": {},
   "outputs": [],
   "source": [
    "# supplementary\n",
    "def relerror(a, b):\n",
    "    return abs(a - b) / max(abs(a), abs(b))"
   ]
  },
  {
   "cell_type": "code",
   "execution_count": 4,
   "metadata": {},
   "outputs": [
    {
     "data": {
      "text/html": [
       "<pre style=\"word-wrap: normal;white-space: pre;background: #fff0;line-height: 1.1;font-family: &quot;Courier New&quot;,Courier,monospace\">     ┌──────────────────┐┌───┐┌─┐\n",
       "q_0: ┤ U3(2.1416,0.9,0) ├┤ H ├┤M├\n",
       "     └──────────────────┘└───┘└╥┘\n",
       "c: 1/══════════════════════════╩═\n",
       "                               0 </pre>"
      ],
      "text/plain": [
       "     ┌──────────────────┐┌───┐┌─┐\n",
       "q_0: ┤ U3(2.1416,0.9,0) ├┤ H ├┤M├\n",
       "     └──────────────────┘└───┘└╥┘\n",
       "c: 1/══════════════════════════╩═\n",
       "                               0 "
      ]
     },
     "execution_count": 4,
     "metadata": {},
     "output_type": "execute_result"
    }
   ],
   "source": [
    "# problem 1\n",
    "from math import *\n",
    "circuit = QuantumCircuit(1, 1)\n",
    "phi = 0.9\n",
    "theta = 0.5\n",
    "circuit.u3(pi - 2 * theta, phi, 0, 0)\n",
    "circuit.h(0)\n",
    "circuit.measure([0], [0])\n",
    "circuit.draw()"
   ]
  },
  {
   "cell_type": "code",
   "execution_count": 10,
   "metadata": {},
   "outputs": [
    {
     "name": "stdout",
     "output_type": "stream",
     "text": [
      "{'1': 514, '0': 1534}\n",
      "prepared = 0.6216099682706644, measured = 0.5918764686980877, relative error = 0.047833048197885315\n"
     ]
    }
   ],
   "source": [
    "shots = 2048\n",
    "job = execute(circuit, simulator, shots=shots)\n",
    "result = job.result()\n",
    "counts = result.get_counts(circuit)\n",
    "print(counts)\n",
    "for k in counts.keys():\n",
    "    counts[k] /= shots\n",
    "c0 = (counts['0'] - counts['1'])\n",
    "cosphi = c0 / cos(theta) / sin(theta) / 2\n",
    "print(\"prepared = {}, measured = {}, relative error = {}\".format(cos(phi), cosphi, relerror(cosphi, cos(phi))))"
   ]
  },
  {
   "cell_type": "code",
   "execution_count": 6,
   "metadata": {},
   "outputs": [
    {
     "data": {
      "text/html": [
       "<pre style=\"word-wrap: normal;white-space: pre;background: #fff0;line-height: 1.1;font-family: &quot;Courier New&quot;,Courier,monospace\">            ┌───┐       ┌───────────┐┌───┐┌───┐┌───┐┌──────────┐     ┌─┐   \n",
       "q_0: ───────┤ H ├───────┤ U1(2pi/3) ├┤ H ├┤ S ├┤ X ├┤ U1(pi/3) ├─────┤M├───\n",
       "            ├───┤       ├───────────┤├───┤├───┤├───┤├──────────┤┌───┐└╥┘┌─┐\n",
       "q_1: ───────┤ H ├───────┤ U1(2pi/3) ├┤ H ├┤ S ├┤ X ├┤ U1(pi/3) ├┤ H ├─╫─┤M├\n",
       "     ┌──────┴───┴──────┐└───────────┘└┬─┬┘└───┘└───┘└──────────┘└───┘ ║ └╥┘\n",
       "q_2: ┤ U3(pi/3,pi/3,0) ├──────────────┤M├─────────────────────────────╫──╫─\n",
       "     ├─────────────────┤    ┌───┐     └╥┘  ┌─┐                        ║  ║ \n",
       "q_3: ┤ U3(pi/3,pi/3,0) ├────┤ H ├──────╫───┤M├────────────────────────╫──╫─\n",
       "     └─────────────────┘    └───┘      ║   └╥┘                        ║  ║ \n",
       "c: 4/══════════════════════════════════╩════╩═════════════════════════╩══╩═\n",
       "                                       2    3                         0  1 </pre>"
      ],
      "text/plain": [
       "            ┌───┐       ┌───────────┐┌───┐┌───┐┌───┐┌──────────┐     ┌─┐   \n",
       "q_0: ───────┤ H ├───────┤ U1(2pi/3) ├┤ H ├┤ S ├┤ X ├┤ U1(pi/3) ├─────┤M├───\n",
       "            ├───┤       ├───────────┤├───┤├───┤├───┤├──────────┤┌───┐└╥┘┌─┐\n",
       "q_1: ───────┤ H ├───────┤ U1(2pi/3) ├┤ H ├┤ S ├┤ X ├┤ U1(pi/3) ├┤ H ├─╫─┤M├\n",
       "     ┌──────┴───┴──────┐└───────────┘└┬─┬┘└───┘└───┘└──────────┘└───┘ ║ └╥┘\n",
       "q_2: ┤ U3(pi/3,pi/3,0) ├──────────────┤M├─────────────────────────────╫──╫─\n",
       "     ├─────────────────┤    ┌───┐     └╥┘  ┌─┐                        ║  ║ \n",
       "q_3: ┤ U3(pi/3,pi/3,0) ├────┤ H ├──────╫───┤M├────────────────────────╫──╫─\n",
       "     └─────────────────┘    └───┘      ║   └╥┘                        ║  ║ \n",
       "c: 4/══════════════════════════════════╩════╩═════════════════════════╩══╩═\n",
       "                                       2    3                         0  1 "
      ]
     },
     "execution_count": 6,
     "metadata": {},
     "output_type": "execute_result"
    }
   ],
   "source": [
    "#problem 2\n",
    "from math import *\n",
    "circuit = QuantumCircuit(4, 4)\n",
    "phi = pi / 3\n",
    "theta = pi / 3\n",
    "# prepare 2 equal states\n",
    "circuit.h(0)\n",
    "circuit.u1(2 * theta, 0)\n",
    "circuit.h(0)\n",
    "circuit.s(0)\n",
    "circuit.x(0)\n",
    "circuit.u1(phi, 0)\n",
    "circuit.h(1)\n",
    "circuit.u1(2 * theta, 1)\n",
    "circuit.h(1)\n",
    "circuit.s(1)\n",
    "circuit.x(1)\n",
    "circuit.u1(phi, 1)\n",
    "# same with u3\n",
    "circuit.u3(pi - 2 * theta, phi, 0, 2)\n",
    "circuit.u3(pi - 2 * theta, phi, 0, 3)\n",
    "# use qbits 0, 2 to check theta, use qbits 1, 3 to check phi\n",
    "# prepare qbits 1, 3 for phi measurements\n",
    "circuit.h(1)\n",
    "circuit.h(3)\n",
    "circuit.measure([0, 1, 2, 3], [0, 1, 2, 3])\n",
    "circuit.draw()"
   ]
  },
  {
   "cell_type": "code",
   "execution_count": 7,
   "metadata": {},
   "outputs": [
    {
     "name": "stdout",
     "output_type": "stream",
     "text": [
      "{'1100': 2485, '0001': 6288, '0000': 19020, '0010': 7564, '1000': 7429, '1101': 864, '1001': 2464, '1110': 1004, '0110': 2426, '0011': 2516, '0100': 6359, '1010': 2958, '1011': 949, '0101': 2053, '0111': 823, '1111': 334}\n",
      "manual: max error = 0.002842173741413378\n",
      "using u3: max error = 0.006444911728573029\n"
     ]
    }
   ],
   "source": [
    "from math import *\n",
    "shots = 65536 # 65536 for simulation, 1024 for real system\n",
    "job = execute(circuit, simulator, shots=shots)\n",
    "result = job.result()\n",
    "counts = result.get_counts(circuit)\n",
    "print(counts)\n",
    "for k in counts.keys():\n",
    "    counts[k] /= shots\n",
    "# separate qbit measurements\n",
    "def gettrace(counts, n, mask):\n",
    "    p = 0\n",
    "    for i in range(1 << n):\n",
    "        state = ''\n",
    "        for j in range(n):\n",
    "            state += str((i >> j) & 1)\n",
    "        corresponds = True\n",
    "        for j in range(n):\n",
    "            if mask[j] != '?' and mask[j] != state[j]:\n",
    "                corresponds = False\n",
    "        if not corresponds:\n",
    "            continue\n",
    "        p += counts[state]\n",
    "    return p\n",
    "# p[i][j] is the probability of qbit i being in state j\n",
    "p = [(gettrace(counts, 4, '?' * (3 - i) + '0' + '?' * i),\n",
    "      gettrace(counts, 4, '?' * (3 - i) + '1' + '?' * i)) for i in range(4)]\n",
    "\n",
    "sintheta = sqrt(p[0][0])\n",
    "costheta = sqrt(p[0][1])\n",
    "c0 = (p[1][0] - p[1][1])\n",
    "cosphi = c0 / cos(theta) / sin(theta) / 2\n",
    "print(\"manual: max error = {}\".format(max(relerror(sintheta, sin(theta)), relerror(costheta, cos(theta)), relerror(cosphi, cos(phi)))))\n",
    "sintheta = sqrt(p[2][0])\n",
    "costheta = sqrt(p[2][1])\n",
    "c0 = (p[3][0] - p[3][1])\n",
    "cosphi = c0 / cos(theta) / sin(theta) / 2\n",
    "print(\"using u3: max error = {}\".format(max(relerror(sintheta, sin(theta)), relerror(costheta, cos(theta)), relerror(cosphi, cos(phi)))))"
   ]
  },
  {
   "cell_type": "code",
   "execution_count": null,
   "metadata": {},
   "outputs": [],
   "source": []
  }
 ],
 "metadata": {
  "kernelspec": {
   "display_name": "Python 3",
   "language": "python",
   "name": "python3"
  },
  "language_info": {
   "codemirror_mode": {
    "name": "ipython",
    "version": 3
   },
   "file_extension": ".py",
   "mimetype": "text/x-python",
   "name": "python",
   "nbconvert_exporter": "python",
   "pygments_lexer": "ipython3",
   "version": "3.7.5"
  }
 },
 "nbformat": 4,
 "nbformat_minor": 4
}
