{
 "cells": [
  {
   "cell_type": "code",
   "execution_count": 1,
   "metadata": {},
   "outputs": [
    {
     "name": "stdout",
     "output_type": "stream",
     "text": [
      "[0, 3, 5, 6]\n",
      "0.8203125\n",
      "0.8203125\n"
     ]
    }
   ],
   "source": [
    "# problem 3\n",
    "n = 3\n",
    "a = 7\n",
    "x = 1\n",
    "\n",
    "# list all possible y we can get with measurement\n",
    "ys = []\n",
    "for y in range(2 ** n):\n",
    "    t = 0\n",
    "    for i in range(n):\n",
    "        t ^= (((y & a) >> i) & 1)\n",
    "    if t == 0:\n",
    "        ys.append(y)\n",
    "print(ys)\n",
    "\n",
    "# compute number of independent vectors\n",
    "def nindependent(vs):\n",
    "    b = [0] * n # basis\n",
    "    answer = 0\n",
    "    for v in vs:\n",
    "        x = v\n",
    "        for i in range(n):\n",
    "            if ((x >> i) & 1) == 1:\n",
    "                if b[i] == 0:\n",
    "                    b[i] = x\n",
    "                    answer += 1\n",
    "                    break\n",
    "                else:\n",
    "                    x ^= b[i]\n",
    "    return answer\n",
    "\n",
    "# choosing n + x = 4 random vectors\n",
    "total = len(ys) ** 4\n",
    "good = 0\n",
    "for y1 in ys:\n",
    "    for y2 in ys:\n",
    "        for y3 in ys:\n",
    "            for y4 in ys:\n",
    "                if nindependent([y1, y2, y3, y4]) == 2:\n",
    "                    good += 1\n",
    "print(good / total)\n",
    "\n",
    "# computing by formula\n",
    "q = 1\n",
    "for i in range(2, n + 1):\n",
    "    q *= (1 - 1 / (2 ** (i + x)))\n",
    "print(q)"
   ]
  },
  {
   "cell_type": "code",
   "execution_count": null,
   "metadata": {},
   "outputs": [],
   "source": []
  }
 ],
 "metadata": {
  "kernelspec": {
   "display_name": "Python 3",
   "language": "python",
   "name": "python3"
  },
  "language_info": {
   "codemirror_mode": {
    "name": "ipython",
    "version": 3
   },
   "file_extension": ".py",
   "mimetype": "text/x-python",
   "name": "python",
   "nbconvert_exporter": "python",
   "pygments_lexer": "ipython3",
   "version": "3.7.5"
  }
 },
 "nbformat": 4,
 "nbformat_minor": 4
}
