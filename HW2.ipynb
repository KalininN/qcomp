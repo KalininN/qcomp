{
 "cells": [
  {
   "cell_type": "code",
   "execution_count": 1,
   "metadata": {},
   "outputs": [
    {
     "name": "stdout",
     "output_type": "stream",
     "text": [
      "[0, 3, 5, 6]\n",
      "0.8203125\n",
      "0.8203125\n"
     ]
    }
   ],
   "source": [
    "# problem 3\n",
    "n = 3\n",
    "a = 7\n",
    "x = 1\n",
    "\n",
    "# list all possible y we can get with measurement\n",
    "ys = []\n",
    "for y in range(2 ** n):\n",
    "    t = 0\n",
    "    for i in range(n):\n",
    "        t ^= (((y & a) >> i) & 1)\n",
    "    if t == 0:\n",
    "        ys.append(y)\n",
    "print(ys)\n",
    "\n",
    "# compute number of independent vectors\n",
    "def nindependent(vs):\n",
    "    b = [0] * n # basis\n",
    "    answer = 0\n",
    "    for v in vs:\n",
    "        x = v\n",
    "        for i in range(n):\n",
    "            if ((x >> i) & 1) == 1:\n",
    "                if b[i] == 0:\n",
    "                    b[i] = x\n",
    "                    answer += 1\n",
    "                    break\n",
    "                else:\n",
    "                    x ^= b[i]\n",
    "    return answer\n",
    "\n",
    "# choosing n + x = 4 random vectors\n",
    "total = len(ys) ** 4\n",
    "good = 0\n",
    "for y1 in ys:\n",
    "    for y2 in ys:\n",
    "        for y3 in ys:\n",
    "            for y4 in ys:\n",
    "                if nindependent([y1, y2, y3, y4]) == 2:\n",
    "                    good += 1\n",
    "print(good / total)\n",
    "\n",
    "# computing by formula\n",
    "q = 1\n",
    "for i in range(2, n + 1):\n",
    "    q *= (1 - 1 / (2 ** (i + x)))\n",
    "print(q)"
   ]
  },
  {
   "cell_type": "code",
   "execution_count": 2,
   "metadata": {},
   "outputs": [
    {
     "name": "stderr",
     "output_type": "stream",
     "text": [
      "/usr/local/lib/python3.7/dist-packages/qiskit/__init__.py:65: RuntimeWarning: Could not import the Aer provider from the qiskit-aer package. Install qiskit-aer or check your installation.\n",
      "  RuntimeWarning)\n",
      "/usr/local/lib/python3.7/dist-packages/qiskit/providers/ibmq/ibmqfactory.py:192: UserWarning: Timestamps in IBMQ backend properties, jobs, and job results are all now in local time instead of UTC.\n",
      "  warnings.warn('Timestamps in IBMQ backend properties, jobs, and job results '\n"
     ]
    },
    {
     "data": {
      "text/html": [
       "<pre style=\"word-wrap: normal;white-space: pre;background: #fff0;line-height: 1.1;font-family: &quot;Courier New&quot;,Courier,monospace\">     ┌───┐┌───┐┌───┐┌───┐┌───┐┌───┐┌───┐┌───┐┌───┐┌───┐┌───┐┌─┐\n",
       "q_0: ┤ H ├┤ H ├┤ X ├┤ H ├┤ H ├┤ X ├┤ H ├┤ X ├┤ H ├┤ X ├┤ H ├┤M├\n",
       "     ├───┤└───┘└─┬─┘├───┤├───┤└───┘└───┘└─┬─┘├───┤├───┤└┬─┬┘└╥┘\n",
       "q_1: ┤ H ├───────■──┤ H ├┤ X ├────────────■──┤ X ├┤ H ├─┤M├──╫─\n",
       "     └───┘          └───┘└───┘               └───┘└───┘ └╥┘  ║ \n",
       "c: 2/════════════════════════════════════════════════════╩═══╩═\n",
       "                                                         1   0 </pre>"
      ],
      "text/plain": [
       "     ┌───┐┌───┐┌───┐┌───┐┌───┐┌───┐┌───┐┌───┐┌───┐┌───┐┌───┐┌─┐\n",
       "q_0: ┤ H ├┤ H ├┤ X ├┤ H ├┤ H ├┤ X ├┤ H ├┤ X ├┤ H ├┤ X ├┤ H ├┤M├\n",
       "     ├───┤└───┘└─┬─┘├───┤├───┤└───┘└───┘└─┬─┘├───┤├───┤└┬─┬┘└╥┘\n",
       "q_1: ┤ H ├───────■──┤ H ├┤ X ├────────────■──┤ X ├┤ H ├─┤M├──╫─\n",
       "     └───┘          └───┘└───┘               └───┘└───┘ └╥┘  ║ \n",
       "c: 2/════════════════════════════════════════════════════╩═══╩═\n",
       "                                                         1   0 "
      ]
     },
     "execution_count": 2,
     "metadata": {},
     "output_type": "execute_result"
    }
   ],
   "source": [
    "# problem 4\n",
    "from qiskit import *\n",
    "IBMQ.load_account()\n",
    "simulator = BasicAer.get_backend('qasm_simulator')\n",
    "circuit3 = QuantumCircuit(2, 2)\n",
    "# Grover's search consists of four parts:\n",
    "# 1. preparation of initial states using H^n\n",
    "# 2. oracle, which is also V operator, which flips the sign of 0-th qbit in case of a match\n",
    "# 3. W operator, with 2 qbits it is H_0 H_1 X_0 X_1 cZ_01 X_0 X_1 H_0 H_1\n",
    "# 2 and 3 are repeated ~(pi/4)2^(n/2) times, in case of n=2 -- only once\n",
    "# 4. measurement\n",
    "# part 1: preparation\n",
    "circuit3.h(0)\n",
    "circuit3.h(1)\n",
    "# part 2: oracle for a = 3 (both bits are 1) is cZ_10 = H_0 cX_10 H_0\n",
    "circuit3.h(0)\n",
    "circuit3.cx(1, 0)\n",
    "circuit3.h(0)\n",
    "# part 3: W operator = H_0 H_1 X_0 X_1 H_0 cX_10 H_0 X_0 X_1 H_0 H_1\n",
    "circuit3.h(0)\n",
    "circuit3.h(1)\n",
    "circuit3.x(0)\n",
    "circuit3.x(1)\n",
    "circuit3.h(0)\n",
    "circuit3.cx(1, 0)\n",
    "circuit3.h(0)\n",
    "circuit3.x(0)\n",
    "circuit3.x(1)\n",
    "circuit3.h(0)\n",
    "circuit3.h(1)\n",
    "# part 4: measurement\n",
    "circuit3.measure([0, 1], [0, 1])\n",
    "circuit3.draw()"
   ]
  },
  {
   "cell_type": "code",
   "execution_count": 3,
   "metadata": {},
   "outputs": [
    {
     "data": {
      "text/plain": [
       "{'11': 1024}"
      ]
     },
     "execution_count": 3,
     "metadata": {},
     "output_type": "execute_result"
    }
   ],
   "source": [
    "job = execute(circuit3, simulator)\n",
    "result = job.result()\n",
    "counts = result.get_counts(circuit3)\n",
    "counts"
   ]
  },
  {
   "cell_type": "code",
   "execution_count": 4,
   "metadata": {},
   "outputs": [
    {
     "data": {
      "text/html": [
       "<pre style=\"word-wrap: normal;white-space: pre;background: #fff0;line-height: 1.1;font-family: &quot;Courier New&quot;,Courier,monospace\">     ┌───┐┌───┐┌───┐┌───┐┌───┐┌───┐┌───┐┌───┐┌───┐┌───┐┌───┐┌───┐┌───┐┌─┐\n",
       "q_0: ┤ H ├┤ X ├┤ H ├┤ X ├┤ H ├┤ X ├┤ H ├┤ X ├┤ H ├┤ X ├┤ H ├┤ X ├┤ H ├┤M├\n",
       "     ├───┤├───┤└───┘└─┬─┘├───┤├───┤├───┤└───┘└───┘└─┬─┘├───┤├───┤└┬─┬┘└╥┘\n",
       "q_1: ┤ H ├┤ X ├───────■──┤ X ├┤ H ├┤ X ├────────────■──┤ X ├┤ H ├─┤M├──╫─\n",
       "     └───┘└───┘          └───┘└───┘└───┘               └───┘└───┘ └╥┘  ║ \n",
       "c: 2/══════════════════════════════════════════════════════════════╩═══╩═\n",
       "                                                                   1   0 </pre>"
      ],
      "text/plain": [
       "     ┌───┐┌───┐┌───┐┌───┐┌───┐┌───┐┌───┐┌───┐┌───┐┌───┐┌───┐┌───┐┌───┐┌─┐\n",
       "q_0: ┤ H ├┤ X ├┤ H ├┤ X ├┤ H ├┤ X ├┤ H ├┤ X ├┤ H ├┤ X ├┤ H ├┤ X ├┤ H ├┤M├\n",
       "     ├───┤├───┤└───┘└─┬─┘├───┤├───┤├───┤└───┘└───┘└─┬─┘├───┤├───┤└┬─┬┘└╥┘\n",
       "q_1: ┤ H ├┤ X ├───────■──┤ X ├┤ H ├┤ X ├────────────■──┤ X ├┤ H ├─┤M├──╫─\n",
       "     └───┘└───┘          └───┘└───┘└───┘               └───┘└───┘ └╥┘  ║ \n",
       "c: 2/══════════════════════════════════════════════════════════════╩═══╩═\n",
       "                                                                   1   0 "
      ]
     },
     "execution_count": 4,
     "metadata": {},
     "output_type": "execute_result"
    }
   ],
   "source": [
    "# circuit for a = 0\n",
    "circuit0 = QuantumCircuit(2, 2)\n",
    "# part 1: preparation\n",
    "circuit0.h(0)\n",
    "circuit0.h(1)\n",
    "# part 2: oracle for a = 0 (both bits are 0) is X_0 X_1 cZ_10 X_0 X_1 = X_0 X_1 H_0 cX_10 H_0 X_0 X_1 \n",
    "circuit0.x(0)\n",
    "circuit0.x(1)\n",
    "circuit0.h(0)\n",
    "circuit0.cx(1, 0)\n",
    "circuit0.h(0)\n",
    "circuit0.x(0)\n",
    "circuit0.x(1)\n",
    "# part 3: W operator = H_0 H_1 X_0 X_1 H_0 cX_10 H_0 X_0 X_1 H_0 H_1\n",
    "circuit0.h(0)\n",
    "circuit0.h(1)\n",
    "circuit0.x(0)\n",
    "circuit0.x(1)\n",
    "circuit0.h(0)\n",
    "circuit0.cx(1, 0)\n",
    "circuit0.h(0)\n",
    "circuit0.x(0)\n",
    "circuit0.x(1)\n",
    "circuit0.h(0)\n",
    "circuit0.h(1)\n",
    "# part 4: measurement\n",
    "circuit0.measure([0, 1], [0, 1])\n",
    "circuit0.draw()"
   ]
  },
  {
   "cell_type": "code",
   "execution_count": 5,
   "metadata": {},
   "outputs": [
    {
     "data": {
      "text/html": [
       "<pre style=\"word-wrap: normal;white-space: pre;background: #fff0;line-height: 1.1;font-family: &quot;Courier New&quot;,Courier,monospace\">     ┌───┐┌───┐┌───┐┌───┐┌───┐┌───┐┌───┐┌───┐┌───┐┌───┐┌───┐┌─┐\n",
       "q_0: ┤ H ├┤ H ├┤ X ├┤ H ├┤ H ├┤ X ├┤ H ├┤ X ├┤ H ├┤ X ├┤ H ├┤M├\n",
       "     ├───┤├───┤└─┬─┘├───┤├───┤├───┤└───┘└─┬─┘├───┤├───┤└┬─┬┘└╥┘\n",
       "q_1: ┤ H ├┤ X ├──■──┤ X ├┤ H ├┤ X ├───────■──┤ X ├┤ H ├─┤M├──╫─\n",
       "     └───┘└───┘     └───┘└───┘└───┘          └───┘└───┘ └╥┘  ║ \n",
       "c: 2/════════════════════════════════════════════════════╩═══╩═\n",
       "                                                         1   0 </pre>"
      ],
      "text/plain": [
       "     ┌───┐┌───┐┌───┐┌───┐┌───┐┌───┐┌───┐┌───┐┌───┐┌───┐┌───┐┌─┐\n",
       "q_0: ┤ H ├┤ H ├┤ X ├┤ H ├┤ H ├┤ X ├┤ H ├┤ X ├┤ H ├┤ X ├┤ H ├┤M├\n",
       "     ├───┤├───┤└─┬─┘├───┤├───┤├───┤└───┘└─┬─┘├───┤├───┤└┬─┬┘└╥┘\n",
       "q_1: ┤ H ├┤ X ├──■──┤ X ├┤ H ├┤ X ├───────■──┤ X ├┤ H ├─┤M├──╫─\n",
       "     └───┘└───┘     └───┘└───┘└───┘          └───┘└───┘ └╥┘  ║ \n",
       "c: 2/════════════════════════════════════════════════════╩═══╩═\n",
       "                                                         1   0 "
      ]
     },
     "execution_count": 5,
     "metadata": {},
     "output_type": "execute_result"
    }
   ],
   "source": [
    "# circuit for a = 1\n",
    "circuit1 = QuantumCircuit(2, 2)\n",
    "# part 1: preparation\n",
    "circuit1.h(0)\n",
    "circuit1.h(1)\n",
    "# part 2: oracle for a = 1 (bit 0 is 1, bit 1 is 0) is X_1 cZ_10 X_1 = X_1 H_0 cX_10 H_0 X_1 \n",
    "circuit1.x(1)\n",
    "circuit1.h(0)\n",
    "circuit1.cx(1, 0)\n",
    "circuit1.h(0)\n",
    "circuit1.x(1)\n",
    "# part 3: W operator = H_0 H_1 X_0 X_1 H_0 cX_10 H_0 X_0 X_1 H_0 H_1\n",
    "circuit1.h(0)\n",
    "circuit1.h(1)\n",
    "circuit1.x(0)\n",
    "circuit1.x(1)\n",
    "circuit1.h(0)\n",
    "circuit1.cx(1, 0)\n",
    "circuit1.h(0)\n",
    "circuit1.x(0)\n",
    "circuit1.x(1)\n",
    "circuit1.h(0)\n",
    "circuit1.h(1)\n",
    "# part 4: measurement\n",
    "circuit1.measure([0, 1], [0, 1])\n",
    "circuit1.draw()"
   ]
  },
  {
   "cell_type": "code",
   "execution_count": 6,
   "metadata": {},
   "outputs": [
    {
     "data": {
      "text/html": [
       "<pre style=\"word-wrap: normal;white-space: pre;background: #fff0;line-height: 1.1;font-family: &quot;Courier New&quot;,Courier,monospace\">     ┌───┐┌───┐┌───┐┌───┐┌───┐┌───┐┌───┐┌───┐┌───┐┌───┐┌───┐┌───┐┌───┐┌─┐\n",
       "q_0: ┤ H ├┤ X ├┤ H ├┤ X ├┤ H ├┤ X ├┤ H ├┤ X ├┤ H ├┤ X ├┤ H ├┤ X ├┤ H ├┤M├\n",
       "     ├───┤└───┘└───┘└─┬─┘├───┤├───┤└───┘└───┘└───┘└─┬─┘├───┤├───┤└┬─┬┘└╥┘\n",
       "q_1: ┤ H ├────────────■──┤ H ├┤ X ├─────────────────■──┤ X ├┤ H ├─┤M├──╫─\n",
       "     └───┘               └───┘└───┘                    └───┘└───┘ └╥┘  ║ \n",
       "c: 2/══════════════════════════════════════════════════════════════╩═══╩═\n",
       "                                                                   1   0 </pre>"
      ],
      "text/plain": [
       "     ┌───┐┌───┐┌───┐┌───┐┌───┐┌───┐┌───┐┌───┐┌───┐┌───┐┌───┐┌───┐┌───┐┌─┐\n",
       "q_0: ┤ H ├┤ X ├┤ H ├┤ X ├┤ H ├┤ X ├┤ H ├┤ X ├┤ H ├┤ X ├┤ H ├┤ X ├┤ H ├┤M├\n",
       "     ├───┤└───┘└───┘└─┬─┘├───┤├───┤└───┘└───┘└───┘└─┬─┘├───┤├───┤└┬─┬┘└╥┘\n",
       "q_1: ┤ H ├────────────■──┤ H ├┤ X ├─────────────────■──┤ X ├┤ H ├─┤M├──╫─\n",
       "     └───┘               └───┘└───┘                    └───┘└───┘ └╥┘  ║ \n",
       "c: 2/══════════════════════════════════════════════════════════════╩═══╩═\n",
       "                                                                   1   0 "
      ]
     },
     "execution_count": 6,
     "metadata": {},
     "output_type": "execute_result"
    }
   ],
   "source": [
    "# circuit for a = 2\n",
    "circuit2 = QuantumCircuit(2, 2)\n",
    "# part 1: preparation\n",
    "circuit2.h(0)\n",
    "circuit2.h(1)\n",
    "# part 2: oracle for a = 2 (bit 0 is 0, bit 1 is 1) is X_0 cZ_10 X_0 = X_0 H_0 cX_10 H_0 X_0 \n",
    "circuit2.x(0)\n",
    "circuit2.h(0)\n",
    "circuit2.cx(1, 0)\n",
    "circuit2.h(0)\n",
    "circuit2.x(0)\n",
    "# part 3: W operator = H_0 H_1 X_0 X_1 H_0 cX_10 H_0 X_0 X_1 H_0 H_1\n",
    "circuit2.h(0)\n",
    "circuit2.h(1)\n",
    "circuit2.x(0)\n",
    "circuit2.x(1)\n",
    "circuit2.h(0)\n",
    "circuit2.cx(1, 0)\n",
    "circuit2.h(0)\n",
    "circuit2.x(0)\n",
    "circuit2.x(1)\n",
    "circuit2.h(0)\n",
    "circuit2.h(1)\n",
    "# part 4: measurement\n",
    "circuit2.measure([0, 1], [0, 1])\n",
    "circuit2.draw()"
   ]
  },
  {
   "cell_type": "code",
   "execution_count": 7,
   "metadata": {},
   "outputs": [
    {
     "data": {
      "text/plain": [
       "{'00': 1024}"
      ]
     },
     "execution_count": 7,
     "metadata": {},
     "output_type": "execute_result"
    }
   ],
   "source": [
    "job = execute(circuit0, simulator)\n",
    "result = job.result()\n",
    "counts = result.get_counts(circuit0)\n",
    "counts"
   ]
  },
  {
   "cell_type": "code",
   "execution_count": 8,
   "metadata": {},
   "outputs": [
    {
     "data": {
      "text/plain": [
       "{'01': 1024}"
      ]
     },
     "execution_count": 8,
     "metadata": {},
     "output_type": "execute_result"
    }
   ],
   "source": [
    "job = execute(circuit1, simulator)\n",
    "result = job.result()\n",
    "counts = result.get_counts(circuit1)\n",
    "counts"
   ]
  },
  {
   "cell_type": "code",
   "execution_count": 9,
   "metadata": {},
   "outputs": [
    {
     "data": {
      "text/plain": [
       "{'10': 1024}"
      ]
     },
     "execution_count": 9,
     "metadata": {},
     "output_type": "execute_result"
    }
   ],
   "source": [
    "job = execute(circuit2, simulator)\n",
    "result = job.result()\n",
    "counts = result.get_counts(circuit2)\n",
    "counts"
   ]
  },
  {
   "cell_type": "code",
   "execution_count": 10,
   "metadata": {},
   "outputs": [
    {
     "data": {
      "text/html": [
       "<pre style=\"word-wrap: normal;white-space: pre;background: #fff0;line-height: 1.1;font-family: &quot;Courier New&quot;,Courier,monospace\">     ┌───┐┌───┐┌───┐┌───┐┌───┐┌───┐┌───┐┌───┐┌───┐┌───┐┌───┐┌───┐┌───┐┌───┐»\n",
       "q_0: ┤ H ├┤ H ├┤ X ├┤ H ├┤ H ├┤ X ├┤ H ├┤ X ├┤ H ├┤ X ├┤ H ├┤ H ├┤ X ├┤ H ├»\n",
       "     ├───┤└───┘└─┬─┘├───┤├───┤└───┘└───┘└─┬─┘├───┤├───┤└───┘└───┘└─┬─┘├───┤»\n",
       "q_1: ┤ H ├───────■──┤ H ├┤ X ├────────────■──┤ X ├┤ H ├────────────■──┤ H ├»\n",
       "     └───┘          └───┘└───┘               └───┘└───┘               └───┘»\n",
       "c: 2/══════════════════════════════════════════════════════════════════════»\n",
       "                                                                           »\n",
       "«     ┌───┐┌───┐┌───┐┌───┐┌───┐┌───┐┌───┐┌─┐\n",
       "«q_0: ┤ H ├┤ X ├┤ H ├┤ X ├┤ H ├┤ X ├┤ H ├┤M├\n",
       "«     ├───┤└───┘└───┘└─┬─┘├───┤├───┤└┬─┬┘└╥┘\n",
       "«q_1: ┤ X ├────────────■──┤ X ├┤ H ├─┤M├──╫─\n",
       "«     └───┘               └───┘└───┘ └╥┘  ║ \n",
       "«c: 2/════════════════════════════════╩═══╩═\n",
       "«                                     1   0 </pre>"
      ],
      "text/plain": [
       "     ┌───┐┌───┐┌───┐┌───┐┌───┐┌───┐┌───┐┌───┐┌───┐┌───┐┌───┐┌───┐┌───┐┌───┐»\n",
       "q_0: ┤ H ├┤ H ├┤ X ├┤ H ├┤ H ├┤ X ├┤ H ├┤ X ├┤ H ├┤ X ├┤ H ├┤ H ├┤ X ├┤ H ├»\n",
       "     ├───┤└───┘└─┬─┘├───┤├───┤└───┘└───┘└─┬─┘├───┤├───┤└───┘└───┘└─┬─┘├───┤»\n",
       "q_1: ┤ H ├───────■──┤ H ├┤ X ├────────────■──┤ X ├┤ H ├────────────■──┤ H ├»\n",
       "     └───┘          └───┘└───┘               └───┘└───┘               └───┘»\n",
       "c: 2/══════════════════════════════════════════════════════════════════════»\n",
       "                                                                           »\n",
       "«     ┌───┐┌───┐┌───┐┌───┐┌───┐┌───┐┌───┐┌─┐\n",
       "«q_0: ┤ H ├┤ X ├┤ H ├┤ X ├┤ H ├┤ X ├┤ H ├┤M├\n",
       "«     ├───┤└───┘└───┘└─┬─┘├───┤├───┤└┬─┬┘└╥┘\n",
       "«q_1: ┤ X ├────────────■──┤ X ├┤ H ├─┤M├──╫─\n",
       "«     └───┘               └───┘└───┘ └╥┘  ║ \n",
       "«c: 2/════════════════════════════════╩═══╩═\n",
       "«                                     1   0 "
      ]
     },
     "execution_count": 10,
     "metadata": {},
     "output_type": "execute_result"
    }
   ],
   "source": [
    "# if VW is repeated more times than needed, then in the plane (a, phi) we get more rotation than needed, and get wrong result,\n",
    "# let's test\n",
    "# part 1: preparation\n",
    "circuit5 = QuantumCircuit(2, 2)\n",
    "circuit5.h(0)\n",
    "circuit5.h(1)\n",
    "# part 2: oracle for a = 3 (both bits are 1) is cZ_10 = H_0 cX_10 H_0\n",
    "circuit5.h(0)\n",
    "circuit5.cx(1, 0)\n",
    "circuit5.h(0)\n",
    "# part 3: W operator = H_0 H_1 X_0 X_1 H_0 cX_10 H_0 X_0 X_1 H_0 H_1\n",
    "circuit5.h(0)\n",
    "circuit5.h(1)\n",
    "circuit5.x(0)\n",
    "circuit5.x(1)\n",
    "circuit5.h(0)\n",
    "circuit5.cx(1, 0)\n",
    "circuit5.h(0)\n",
    "circuit5.x(0)\n",
    "circuit5.x(1)\n",
    "circuit5.h(0)\n",
    "circuit5.h(1)\n",
    "# parts 2 and 3 are repeated\n",
    "circuit5.h(0)\n",
    "circuit5.cx(1, 0)\n",
    "circuit5.h(0)\n",
    "# \n",
    "circuit5.h(0)\n",
    "circuit5.h(1)\n",
    "circuit5.x(0)\n",
    "circuit5.x(1)\n",
    "circuit5.h(0)\n",
    "circuit5.cx(1, 0)\n",
    "circuit5.h(0)\n",
    "circuit5.x(0)\n",
    "circuit5.x(1)\n",
    "circuit5.h(0)\n",
    "circuit5.h(1)\n",
    "# part 4: measurement\n",
    "circuit5.measure([0, 1], [0, 1])\n",
    "circuit5.draw()"
   ]
  },
  {
   "cell_type": "code",
   "execution_count": 11,
   "metadata": {},
   "outputs": [
    {
     "data": {
      "text/plain": [
       "{'01': 266, '11': 248, '00': 257, '10': 253}"
      ]
     },
     "execution_count": 11,
     "metadata": {},
     "output_type": "execute_result"
    }
   ],
   "source": [
    "job = execute(circuit5, simulator)\n",
    "result = job.result()\n",
    "counts = result.get_counts(circuit5)\n",
    "counts"
   ]
  },
  {
   "cell_type": "code",
   "execution_count": null,
   "metadata": {},
   "outputs": [],
   "source": [
    "# result is wrong as expected"
   ]
  }
 ],
 "metadata": {
  "kernelspec": {
   "display_name": "Python 3",
   "language": "python",
   "name": "python3"
  },
  "language_info": {
   "codemirror_mode": {
    "name": "ipython",
    "version": 3
   },
   "file_extension": ".py",
   "mimetype": "text/x-python",
   "name": "python",
   "nbconvert_exporter": "python",
   "pygments_lexer": "ipython3",
   "version": "3.7.5"
  }
 },
 "nbformat": 4,
 "nbformat_minor": 4
}
