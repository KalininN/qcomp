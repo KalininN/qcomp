{
 "cells": [
  {
   "cell_type": "code",
   "execution_count": 1,
   "metadata": {},
   "outputs": [
    {
     "name": "stderr",
     "output_type": "stream",
     "text": [
      "/usr/local/lib/python3.7/dist-packages/qiskit/__init__.py:65: RuntimeWarning: Could not import the Aer provider from the qiskit-aer package. Install qiskit-aer or check your installation.\n",
      "  RuntimeWarning)\n",
      "/usr/local/lib/python3.7/dist-packages/qiskit/providers/ibmq/ibmqfactory.py:192: UserWarning: Timestamps in IBMQ backend properties, jobs, and job results are all now in local time instead of UTC.\n",
      "  warnings.warn('Timestamps in IBMQ backend properties, jobs, and job results '\n"
     ]
    }
   ],
   "source": [
    "from qiskit import *\n",
    "IBMQ.load_account()\n",
    "simulator = BasicAer.get_backend('qasm_simulator')"
   ]
  },
  {
   "cell_type": "code",
   "execution_count": 2,
   "metadata": {},
   "outputs": [
    {
     "data": {
      "text/html": [
       "<pre style=\"word-wrap: normal;white-space: pre;background: #fff0;line-height: 1.1;font-family: &quot;Courier New&quot;,Courier,monospace\">     ┌───┐ ░                                 ░    ┌───┐                        »\n",
       "q_0: ┤ H ├─░──■──────────────────────────────░──X─┤ H ├─■───────■───────■──────»\n",
       "     ├───┤ ░  │                              ░  │ └───┘ │-pi/2  │       │      »\n",
       "q_1: ┤ H ├─░──┼──────■───────────────────────░──┼───X───■───────┼───────┼──────»\n",
       "     ├───┤ ░  │      │                       ░  │   │           │-pi/4  │      »\n",
       "q_2: ┤ H ├─░──┼──────┼───────■───────────────░──┼───X───────────■───────┼──────»\n",
       "     ├───┤ ░  │      │       │               ░  │                       │-pi/8 »\n",
       "q_3: ┤ H ├─░──┼──────┼───────┼───────■───────░──X───────────────────────■──────»\n",
       "     ├───┤ ░  │pi/5  │2pi/5  │4pi/5  │8pi/5  ░                                 »\n",
       "q_4: ┤ X ├─░──■──────■───────■───────■───────░─────────────────────────────────»\n",
       "     └───┘ ░                                 ░                                 »\n",
       "c: 4/══════════════════════════════════════════════════════════════════════════»\n",
       "                                                                               »\n",
       "«      ░                       ░                    ░ ┌─┐         \n",
       "«q_0: ─░───────────────────────░────────────────────░─┤M├─────────\n",
       "«      ░ ┌───┐                 ░                    ░ └╥┘┌─┐      \n",
       "«q_1: ─░─┤ H ├─■───────■───────░────────────────────░──╫─┤M├──────\n",
       "«      ░ └───┘ │-pi/2  │       ░ ┌───┐              ░  ║ └╥┘┌─┐   \n",
       "«q_2: ─░───────■───────┼───────░─┤ H ├─■────────────░──╫──╫─┤M├───\n",
       "«      ░               │-pi/4  ░ └───┘ │-pi/2 ┌───┐ ░  ║  ║ └╥┘┌─┐\n",
       "«q_3: ─░───────────────■───────░───────■──────┤ H ├─░──╫──╫──╫─┤M├\n",
       "«      ░                       ░              └───┘ ░  ║  ║  ║ └╥┘\n",
       "«q_4: ─░───────────────────────░────────────────────░──╫──╫──╫──╫─\n",
       "«      ░                       ░                    ░  ║  ║  ║  ║ \n",
       "«c: 4/═════════════════════════════════════════════════╩══╩══╩══╩═\n",
       "«                                                      0  1  2  3 </pre>"
      ],
      "text/plain": [
       "     ┌───┐ ░                                 ░    ┌───┐                        »\n",
       "q_0: ┤ H ├─░──■──────────────────────────────░──X─┤ H ├─■───────■───────■──────»\n",
       "     ├───┤ ░  │                              ░  │ └───┘ │-pi/2  │       │      »\n",
       "q_1: ┤ H ├─░──┼──────■───────────────────────░──┼───X───■───────┼───────┼──────»\n",
       "     ├───┤ ░  │      │                       ░  │   │           │-pi/4  │      »\n",
       "q_2: ┤ H ├─░──┼──────┼───────■───────────────░──┼───X───────────■───────┼──────»\n",
       "     ├───┤ ░  │      │       │               ░  │                       │-pi/8 »\n",
       "q_3: ┤ H ├─░──┼──────┼───────┼───────■───────░──X───────────────────────■──────»\n",
       "     ├───┤ ░  │pi/5  │2pi/5  │4pi/5  │8pi/5  ░                                 »\n",
       "q_4: ┤ X ├─░──■──────■───────■───────■───────░─────────────────────────────────»\n",
       "     └───┘ ░                                 ░                                 »\n",
       "c: 4/══════════════════════════════════════════════════════════════════════════»\n",
       "                                                                               »\n",
       "«      ░                       ░                    ░ ┌─┐         \n",
       "«q_0: ─░───────────────────────░────────────────────░─┤M├─────────\n",
       "«      ░ ┌───┐                 ░                    ░ └╥┘┌─┐      \n",
       "«q_1: ─░─┤ H ├─■───────■───────░────────────────────░──╫─┤M├──────\n",
       "«      ░ └───┘ │-pi/2  │       ░ ┌───┐              ░  ║ └╥┘┌─┐   \n",
       "«q_2: ─░───────■───────┼───────░─┤ H ├─■────────────░──╫──╫─┤M├───\n",
       "«      ░               │-pi/4  ░ └───┘ │-pi/2 ┌───┐ ░  ║  ║ └╥┘┌─┐\n",
       "«q_3: ─░───────────────■───────░───────■──────┤ H ├─░──╫──╫──╫─┤M├\n",
       "«      ░                       ░              └───┘ ░  ║  ║  ║ └╥┘\n",
       "«q_4: ─░───────────────────────░────────────────────░──╫──╫──╫──╫─\n",
       "«      ░                       ░                    ░  ║  ║  ║  ║ \n",
       "«c: 4/═════════════════════════════════════════════════╩══╩══╩══╩═\n",
       "«                                                      0  1  2  3 "
      ]
     },
     "execution_count": 2,
     "metadata": {},
     "output_type": "execute_result"
    }
   ],
   "source": [
    "# Task 2\n",
    "from math import *\n",
    "circuit = QuantumCircuit(5, 4)\n",
    "theta = pi / 5\n",
    "circuit.x(4)\n",
    "circuit.h(0)\n",
    "circuit.h(1)\n",
    "circuit.h(2)\n",
    "circuit.h(3)\n",
    "circuit.barrier()\n",
    "# to make things shorter, U^2(theta) = U(2 * theta)\n",
    "circuit.cu1(theta, 0, 4)\n",
    "circuit.cu1(2 * theta, 1, 4)\n",
    "circuit.cu1(4 * theta, 2, 4)\n",
    "circuit.cu1(8 * theta, 3, 4)\n",
    "circuit.barrier()\n",
    "# inverse qft\n",
    "w = -pi\n",
    "circuit.swap(0, 3)\n",
    "circuit.swap(1, 2)\n",
    "circuit.h(0)\n",
    "circuit.cu1(w / 2, 0, 1)\n",
    "circuit.cu1(w / 4, 0, 2)\n",
    "circuit.cu1(w / 8, 0, 3)\n",
    "circuit.barrier()\n",
    "circuit.h(1)\n",
    "circuit.cu1(w / 2, 1, 2)\n",
    "circuit.cu1(w / 4, 1, 3)\n",
    "circuit.barrier()\n",
    "circuit.h(2)\n",
    "circuit.cu1(w / 2, 2, 3)\n",
    "circuit.h(3)\n",
    "circuit.barrier()\n",
    "circuit.measure([0, 1, 2, 3], [0, 1, 2, 3])\n",
    "circuit.draw()"
   ]
  },
  {
   "cell_type": "code",
   "execution_count": 3,
   "metadata": {},
   "outputs": [
    {
     "name": "stdout",
     "output_type": "stream",
     "text": [
      "0000 2382\n",
      "0001 16597\n",
      "0010 37737\n",
      "0011 3221\n",
      "0100 1120\n",
      "0101 611\n",
      "0110 414\n",
      "0111 310\n",
      "1000 278\n",
      "1001 220\n",
      "1010 213\n",
      "1011 276\n",
      "1100 298\n",
      "1101 349\n",
      "1110 537\n",
      "1111 973\n",
      "theta = 0.7853981633974483, correct is 0.6283185307179586\n"
     ]
    }
   ],
   "source": [
    "job = execute(circuit, simulator, shots=65536)\n",
    "result = job.result()\n",
    "counts = result.get_counts(circuit)\n",
    "for x, y in sorted(counts.items()):\n",
    "    print(x, y)\n",
    "ans = int(max([(y, x) for x, y in counts.items()])[1], 2)\n",
    "print(\"theta = {}, correct is {}\".format(ans / (2 ** 4) * 2 * pi, theta))"
   ]
  },
  {
   "cell_type": "code",
   "execution_count": 22,
   "metadata": {},
   "outputs": [
    {
     "data": {
      "text/html": [
       "<pre style=\"word-wrap: normal;white-space: pre;background: #fff0;line-height: 1.1;font-family: &quot;Courier New&quot;,Courier,monospace\">     ┌───┐ ░    ┌───┐               ░              ░      \n",
       "q_0: ┤ X ├─░──X─┤ H ├─■──────■──────░──────────────░──────\n",
       "     ├───┤ ░  │ └───┘ │pi/2  │      ░ ┌───┐        ░      \n",
       "q_1: ┤ X ├─░──┼───────■──────┼──────░─┤ H ├─■──────░──────\n",
       "     └───┘ ░  │              │pi/4  ░ └───┘ │pi/2  ░ ┌───┐\n",
       "q_2: ──────░──X──────────────■──────░───────■──────░─┤ H ├\n",
       "           ░                        ░              ░ └───┘\n",
       "c: 3/═════════════════════════════════════════════════════\n",
       "                                                          </pre>"
      ],
      "text/plain": [
       "     ┌───┐ ░    ┌───┐               ░              ░      \n",
       "q_0: ┤ X ├─░──X─┤ H ├─■──────■──────░──────────────░──────\n",
       "     ├───┤ ░  │ └───┘ │pi/2  │      ░ ┌───┐        ░      \n",
       "q_1: ┤ X ├─░──┼───────■──────┼──────░─┤ H ├─■──────░──────\n",
       "     └───┘ ░  │              │pi/4  ░ └───┘ │pi/2  ░ ┌───┐\n",
       "q_2: ──────░──X──────────────■──────░───────■──────░─┤ H ├\n",
       "           ░                        ░              ░ └───┘\n",
       "c: 3/═════════════════════════════════════════════════════\n",
       "                                                          "
      ]
     },
     "execution_count": 22,
     "metadata": {},
     "output_type": "execute_result"
    }
   ],
   "source": [
    "# Task 1.2\n",
    "simulator = BasicAer.get_backend('unitary_simulator')\n",
    "circuit = QuantumCircuit(3, 3)\n",
    "x = 3\n",
    "n = 3\n",
    "# prepare state |x>\n",
    "for i in range(n):\n",
    "    if (x >> i) & 1:\n",
    "        circuit.x(i)\n",
    "# after QFT amplitude for k should be 1/2sqrt(2) exp(2 * pi * i * k * x / 8)\n",
    "circuit.barrier()\n",
    "# qft\n",
    "w = pi\n",
    "circuit.swap(0, 2)\n",
    "circuit.h(0)\n",
    "circuit.cu1(w / 2, 0, 1)\n",
    "circuit.cu1(w / 4, 0, 2)\n",
    "circuit.barrier()\n",
    "circuit.h(1)\n",
    "circuit.cu1(w / 2, 1, 2)\n",
    "circuit.barrier()\n",
    "circuit.h(2)\n",
    "circuit.draw()"
   ]
  },
  {
   "cell_type": "code",
   "execution_count": 23,
   "metadata": {},
   "outputs": [
    {
     "name": "stdout",
     "output_type": "stream",
     "text": [
      "phase expected: 0.0, phase computed: 6.283185307179586\n",
      "phase expected: 2.356194490192345, phase computed: 2.3561944901923444\n",
      "phase expected: 4.71238898038469, phase computed: 4.71238898038469\n",
      "phase expected: 0.7853981633974483, phase computed: 0.7853981633974478\n",
      "phase expected: 3.141592653589793, phase computed: 3.141592653589793\n",
      "phase expected: 5.497787143782137, phase computed: 5.497787143782137\n",
      "phase expected: 1.5707963267948966, phase computed: 1.5707963267948963\n",
      "phase expected: 3.9269908169872423, phase computed: 3.926990816987241\n"
     ]
    }
   ],
   "source": [
    "import cmath\n",
    "job = execute(circuit, simulator)\n",
    "result = job.result()\n",
    "res = result.get_unitary(circuit, decimals=3)\n",
    "res = [x[0] for x in res]\n",
    "for k in range(2 ** n):\n",
    "    print(\"phase expected: {}, phase computed: {}\".format((2 * pi * k * x / (2 ** n)) % (2 * pi), cmath.phase(res[k]) % (2 * pi)))"
   ]
  },
  {
   "cell_type": "code",
   "execution_count": null,
   "metadata": {},
   "outputs": [],
   "source": []
  }
 ],
 "metadata": {
  "kernelspec": {
   "display_name": "Python 3",
   "language": "python",
   "name": "python3"
  },
  "language_info": {
   "codemirror_mode": {
    "name": "ipython",
    "version": 3
   },
   "file_extension": ".py",
   "mimetype": "text/x-python",
   "name": "python",
   "nbconvert_exporter": "python",
   "pygments_lexer": "ipython3",
   "version": "3.7.5"
  }
 },
 "nbformat": 4,
 "nbformat_minor": 4
}
